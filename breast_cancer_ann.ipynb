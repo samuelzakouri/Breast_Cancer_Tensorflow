{
 "cells": [
  {
   "cell_type": "code",
   "execution_count": 9,
   "metadata": {
    "ExecuteTime": {
     "end_time": "2021-03-24T15:56:37.536535Z",
     "start_time": "2021-03-24T15:56:37.530880Z"
    }
   },
   "outputs": [],
   "source": [
    "import numpy as np\n",
    "from tensorflow.keras.models import Sequential\n",
    "from tensorflow.keras.layers import Dense\n",
    "from sklearn.datasets import load_breast_cancer\n",
    "from sklearn.preprocessing import StandardScaler\n",
    "from sklearn.model_selection import train_test_split"
   ]
  },
  {
   "cell_type": "code",
   "execution_count": 2,
   "metadata": {
    "ExecuteTime": {
     "end_time": "2021-03-24T15:49:08.640076Z",
     "start_time": "2021-03-24T15:49:08.609725Z"
    }
   },
   "outputs": [],
   "source": [
    "df = load_breast_cancer()"
   ]
  },
  {
   "cell_type": "code",
   "execution_count": 3,
   "metadata": {
    "ExecuteTime": {
     "end_time": "2021-03-24T15:49:28.670383Z",
     "start_time": "2021-03-24T15:49:28.665688Z"
    }
   },
   "outputs": [],
   "source": [
    "X = df.data\n",
    "y = df.target"
   ]
  },
  {
   "cell_type": "code",
   "execution_count": 4,
   "metadata": {
    "ExecuteTime": {
     "end_time": "2021-03-24T15:49:56.419635Z",
     "start_time": "2021-03-24T15:49:56.414017Z"
    }
   },
   "outputs": [],
   "source": [
    "scaler = StandardScaler()"
   ]
  },
  {
   "cell_type": "code",
   "execution_count": 5,
   "metadata": {
    "ExecuteTime": {
     "end_time": "2021-03-24T15:50:10.071904Z",
     "start_time": "2021-03-24T15:50:10.056426Z"
    }
   },
   "outputs": [],
   "source": [
    "X_scaled = scaler.fit_transform(X)"
   ]
  },
  {
   "cell_type": "code",
   "execution_count": 6,
   "metadata": {
    "ExecuteTime": {
     "end_time": "2021-03-24T15:52:02.266629Z",
     "start_time": "2021-03-24T15:52:02.247632Z"
    }
   },
   "outputs": [],
   "source": [
    "X_train , X_test, y_train, y_test = train_test_split(X_scaled, y, test_size=0.2, random_state=0)"
   ]
  },
  {
   "cell_type": "code",
   "execution_count": 10,
   "metadata": {
    "ExecuteTime": {
     "end_time": "2021-03-24T15:57:43.932679Z",
     "start_time": "2021-03-24T15:57:43.878936Z"
    }
   },
   "outputs": [],
   "source": [
    "model = Sequential()\n",
    "model.add(Dense(units=16, activation='relu', input_dim=30))\n",
    "model.add(Dense(units=1, activation='sigmoid'))"
   ]
  },
  {
   "cell_type": "code",
   "execution_count": 11,
   "metadata": {
    "ExecuteTime": {
     "end_time": "2021-03-24T15:58:24.650844Z",
     "start_time": "2021-03-24T15:58:24.631463Z"
    }
   },
   "outputs": [],
   "source": [
    "model.compile(optimizer='adam', loss='binary_crossentropy', metrics=['accuracy'])"
   ]
  },
  {
   "cell_type": "code",
   "execution_count": 13,
   "metadata": {
    "ExecuteTime": {
     "end_time": "2021-03-24T15:58:33.269682Z",
     "start_time": "2021-03-24T15:58:33.249331Z"
    }
   },
   "outputs": [
    {
     "name": "stdout",
     "output_type": "stream",
     "text": [
      "Model: \"sequential_1\"\n",
      "_________________________________________________________________\n",
      "Layer (type)                 Output Shape              Param #   \n",
      "=================================================================\n",
      "dense (Dense)                (None, 16)                496       \n",
      "_________________________________________________________________\n",
      "dense_1 (Dense)              (None, 1)                 17        \n",
      "=================================================================\n",
      "Total params: 513\n",
      "Trainable params: 513\n",
      "Non-trainable params: 0\n",
      "_________________________________________________________________\n"
     ]
    }
   ],
   "source": [
    "model.summary()"
   ]
  },
  {
   "cell_type": "code",
   "execution_count": 14,
   "metadata": {
    "ExecuteTime": {
     "end_time": "2021-03-24T16:01:07.723590Z",
     "start_time": "2021-03-24T16:00:57.305657Z"
    },
    "scrolled": false
   },
   "outputs": [
    {
     "name": "stdout",
     "output_type": "stream",
     "text": [
      "Epoch 1/100\n",
      "46/46 [==============================] - 1s 2ms/step - loss: 0.7627 - accuracy: 0.5169\n",
      "Epoch 2/100\n",
      "46/46 [==============================] - 0s 2ms/step - loss: 0.3767 - accuracy: 0.9064\n",
      "Epoch 3/100\n",
      "46/46 [==============================] - 0s 2ms/step - loss: 0.2578 - accuracy: 0.9457\n",
      "Epoch 4/100\n",
      "46/46 [==============================] - 0s 2ms/step - loss: 0.2089 - accuracy: 0.9644\n",
      "Epoch 5/100\n",
      "46/46 [==============================] - 0s 2ms/step - loss: 0.1536 - accuracy: 0.9657\n",
      "Epoch 6/100\n",
      "46/46 [==============================] - 0s 2ms/step - loss: 0.1204 - accuracy: 0.9790\n",
      "Epoch 7/100\n",
      "46/46 [==============================] - 0s 1ms/step - loss: 0.1123 - accuracy: 0.9787\n",
      "Epoch 8/100\n",
      "46/46 [==============================] - 0s 2ms/step - loss: 0.0936 - accuracy: 0.9836\n",
      "Epoch 9/100\n",
      "46/46 [==============================] - 0s 2ms/step - loss: 0.0810 - accuracy: 0.9816\n",
      "Epoch 10/100\n",
      "46/46 [==============================] - 0s 2ms/step - loss: 0.0801 - accuracy: 0.9828\n",
      "Epoch 11/100\n",
      "46/46 [==============================] - 0s 1ms/step - loss: 0.0718 - accuracy: 0.9906\n",
      "Epoch 12/100\n",
      "46/46 [==============================] - 0s 2ms/step - loss: 0.0732 - accuracy: 0.9846\n",
      "Epoch 13/100\n",
      "46/46 [==============================] - 0s 3ms/step - loss: 0.0616 - accuracy: 0.9904\n",
      "Epoch 14/100\n",
      "46/46 [==============================] - 0s 2ms/step - loss: 0.0692 - accuracy: 0.9847\n",
      "Epoch 15/100\n",
      "46/46 [==============================] - 0s 3ms/step - loss: 0.0641 - accuracy: 0.9886\n",
      "Epoch 16/100\n",
      "46/46 [==============================] - 0s 2ms/step - loss: 0.0676 - accuracy: 0.9859\n",
      "Epoch 17/100\n",
      "46/46 [==============================] - 0s 2ms/step - loss: 0.0547 - accuracy: 0.9902\n",
      "Epoch 18/100\n",
      "46/46 [==============================] - 0s 1ms/step - loss: 0.0487 - accuracy: 0.9910\n",
      "Epoch 19/100\n",
      "46/46 [==============================] - 0s 2ms/step - loss: 0.0593 - accuracy: 0.9876\n",
      "Epoch 20/100\n",
      "46/46 [==============================] - 0s 1ms/step - loss: 0.0527 - accuracy: 0.9901\n",
      "Epoch 21/100\n",
      "46/46 [==============================] - 0s 2ms/step - loss: 0.0571 - accuracy: 0.9921\n",
      "Epoch 22/100\n",
      "46/46 [==============================] - 0s 2ms/step - loss: 0.0642 - accuracy: 0.9819\n",
      "Epoch 23/100\n",
      "46/46 [==============================] - 0s 2ms/step - loss: 0.0666 - accuracy: 0.9843\n",
      "Epoch 24/100\n",
      "46/46 [==============================] - 0s 2ms/step - loss: 0.0635 - accuracy: 0.9832\n",
      "Epoch 25/100\n",
      "46/46 [==============================] - 0s 2ms/step - loss: 0.0333 - accuracy: 0.9958\n",
      "Epoch 26/100\n",
      "46/46 [==============================] - 0s 3ms/step - loss: 0.0517 - accuracy: 0.9876\n",
      "Epoch 27/100\n",
      "46/46 [==============================] - 0s 2ms/step - loss: 0.0388 - accuracy: 0.9904\n",
      "Epoch 28/100\n",
      "46/46 [==============================] - 0s 2ms/step - loss: 0.0471 - accuracy: 0.9914\n",
      "Epoch 29/100\n",
      "46/46 [==============================] - 0s 3ms/step - loss: 0.0440 - accuracy: 0.9872\n",
      "Epoch 30/100\n",
      "46/46 [==============================] - 0s 2ms/step - loss: 0.0287 - accuracy: 0.9944\n",
      "Epoch 31/100\n",
      "46/46 [==============================] - 0s 2ms/step - loss: 0.0477 - accuracy: 0.9876\n",
      "Epoch 32/100\n",
      "46/46 [==============================] - 0s 2ms/step - loss: 0.0492 - accuracy: 0.9889\n",
      "Epoch 33/100\n",
      "46/46 [==============================] - 0s 3ms/step - loss: 0.0365 - accuracy: 0.9906\n",
      "Epoch 34/100\n",
      "46/46 [==============================] - 0s 2ms/step - loss: 0.0417 - accuracy: 0.9935\n",
      "Epoch 35/100\n",
      "46/46 [==============================] - 0s 2ms/step - loss: 0.0386 - accuracy: 0.9921\n",
      "Epoch 36/100\n",
      "46/46 [==============================] - 0s 2ms/step - loss: 0.0281 - accuracy: 0.9950\n",
      "Epoch 37/100\n",
      "46/46 [==============================] - 0s 2ms/step - loss: 0.0402 - accuracy: 0.9902\n",
      "Epoch 38/100\n",
      "46/46 [==============================] - 0s 2ms/step - loss: 0.0410 - accuracy: 0.9903\n",
      "Epoch 39/100\n",
      "46/46 [==============================] - 0s 2ms/step - loss: 0.0356 - accuracy: 0.9920\n",
      "Epoch 40/100\n",
      "46/46 [==============================] - 0s 2ms/step - loss: 0.0293 - accuracy: 0.9959\n",
      "Epoch 41/100\n",
      "46/46 [==============================] - 0s 2ms/step - loss: 0.0308 - accuracy: 0.9939\n",
      "Epoch 42/100\n",
      "46/46 [==============================] - 0s 2ms/step - loss: 0.0347 - accuracy: 0.9904\n",
      "Epoch 43/100\n",
      "46/46 [==============================] - 0s 2ms/step - loss: 0.0391 - accuracy: 0.9894\n",
      "Epoch 44/100\n",
      "46/46 [==============================] - 0s 2ms/step - loss: 0.0380 - accuracy: 0.9894\n",
      "Epoch 45/100\n",
      "46/46 [==============================] - 0s 2ms/step - loss: 0.0286 - accuracy: 0.9935\n",
      "Epoch 46/100\n",
      "46/46 [==============================] - 0s 2ms/step - loss: 0.0264 - accuracy: 0.9941\n",
      "Epoch 47/100\n",
      "46/46 [==============================] - 0s 2ms/step - loss: 0.0209 - accuracy: 0.9967\n",
      "Epoch 48/100\n",
      "46/46 [==============================] - 0s 3ms/step - loss: 0.0305 - accuracy: 0.9939\n",
      "Epoch 49/100\n",
      "46/46 [==============================] - 0s 2ms/step - loss: 0.0493 - accuracy: 0.9830\n",
      "Epoch 50/100\n",
      "46/46 [==============================] - 0s 2ms/step - loss: 0.0272 - accuracy: 0.9930\n",
      "Epoch 51/100\n",
      "46/46 [==============================] - 0s 2ms/step - loss: 0.0255 - accuracy: 0.9950\n",
      "Epoch 52/100\n",
      "46/46 [==============================] - 0s 2ms/step - loss: 0.0281 - accuracy: 0.9913\n",
      "Epoch 53/100\n",
      "46/46 [==============================] - 0s 2ms/step - loss: 0.0371 - accuracy: 0.9879\n",
      "Epoch 54/100\n",
      "46/46 [==============================] - 0s 2ms/step - loss: 0.0236 - accuracy: 0.9921\n",
      "Epoch 55/100\n",
      "46/46 [==============================] - 0s 2ms/step - loss: 0.0264 - accuracy: 0.9934\n",
      "Epoch 56/100\n",
      "46/46 [==============================] - 0s 2ms/step - loss: 0.0195 - accuracy: 0.9949\n",
      "Epoch 57/100\n",
      "46/46 [==============================] - 0s 2ms/step - loss: 0.0251 - accuracy: 0.9911\n",
      "Epoch 58/100\n",
      "46/46 [==============================] - 0s 2ms/step - loss: 0.0212 - accuracy: 0.9961\n",
      "Epoch 59/100\n",
      "46/46 [==============================] - 0s 2ms/step - loss: 0.0338 - accuracy: 0.9870\n",
      "Epoch 60/100\n",
      "46/46 [==============================] - 0s 2ms/step - loss: 0.0228 - accuracy: 0.9932\n",
      "Epoch 61/100\n",
      "46/46 [==============================] - 0s 2ms/step - loss: 0.0260 - accuracy: 0.9888\n",
      "Epoch 62/100\n",
      "46/46 [==============================] - 0s 2ms/step - loss: 0.0232 - accuracy: 0.9923\n",
      "Epoch 63/100\n",
      "46/46 [==============================] - 0s 2ms/step - loss: 0.0309 - accuracy: 0.9853\n",
      "Epoch 64/100\n",
      "46/46 [==============================] - 0s 2ms/step - loss: 0.0264 - accuracy: 0.9917\n",
      "Epoch 65/100\n",
      "46/46 [==============================] - 0s 2ms/step - loss: 0.0231 - accuracy: 0.9932\n",
      "Epoch 66/100\n",
      "46/46 [==============================] - 0s 3ms/step - loss: 0.0166 - accuracy: 0.9948\n",
      "Epoch 67/100\n",
      "46/46 [==============================] - 0s 2ms/step - loss: 0.0176 - accuracy: 0.9957\n",
      "Epoch 68/100\n",
      "46/46 [==============================] - 0s 2ms/step - loss: 0.0259 - accuracy: 0.9905\n",
      "Epoch 69/100\n",
      "46/46 [==============================] - 0s 2ms/step - loss: 0.0156 - accuracy: 0.9973\n",
      "Epoch 70/100\n",
      "46/46 [==============================] - 0s 2ms/step - loss: 0.0160 - accuracy: 0.9953\n",
      "Epoch 71/100\n",
      "46/46 [==============================] - 0s 2ms/step - loss: 0.0223 - accuracy: 0.9884\n",
      "Epoch 72/100\n",
      "46/46 [==============================] - 0s 3ms/step - loss: 0.0275 - accuracy: 0.9881\n",
      "Epoch 73/100\n",
      "46/46 [==============================] - 0s 3ms/step - loss: 0.0240 - accuracy: 0.9885\n",
      "Epoch 74/100\n",
      "46/46 [==============================] - ETA: 0s - loss: 0.0183 - accuracy: 0.99 - 0s 3ms/step - loss: 0.0186 - accuracy: 0.9911\n",
      "Epoch 75/100\n",
      "46/46 [==============================] - 0s 3ms/step - loss: 0.0156 - accuracy: 0.9940\n",
      "Epoch 76/100\n",
      "46/46 [==============================] - 0s 3ms/step - loss: 0.0220 - accuracy: 0.9890\n",
      "Epoch 77/100\n",
      "46/46 [==============================] - 0s 3ms/step - loss: 0.0195 - accuracy: 0.9889\n",
      "Epoch 78/100\n",
      "46/46 [==============================] - 0s 2ms/step - loss: 0.0132 - accuracy: 0.9949\n",
      "Epoch 79/100\n",
      "46/46 [==============================] - 0s 2ms/step - loss: 0.0136 - accuracy: 0.9968\n",
      "Epoch 80/100\n",
      "46/46 [==============================] - 0s 2ms/step - loss: 0.0195 - accuracy: 0.9931\n",
      "Epoch 81/100\n",
      "46/46 [==============================] - 0s 2ms/step - loss: 0.0209 - accuracy: 0.9912\n",
      "Epoch 82/100\n"
     ]
    },
    {
     "name": "stdout",
     "output_type": "stream",
     "text": [
      "46/46 [==============================] - 0s 2ms/step - loss: 0.0144 - accuracy: 0.9980\n",
      "Epoch 83/100\n",
      "46/46 [==============================] - 0s 2ms/step - loss: 0.0126 - accuracy: 0.9995\n",
      "Epoch 84/100\n",
      "46/46 [==============================] - 0s 2ms/step - loss: 0.0254 - accuracy: 0.9882\n",
      "Epoch 85/100\n",
      "46/46 [==============================] - 0s 2ms/step - loss: 0.0166 - accuracy: 0.9953\n",
      "Epoch 86/100\n",
      "46/46 [==============================] - 0s 3ms/step - loss: 0.0141 - accuracy: 0.9978\n",
      "Epoch 87/100\n",
      "46/46 [==============================] - 0s 2ms/step - loss: 0.0144 - accuracy: 0.9965\n",
      "Epoch 88/100\n",
      "46/46 [==============================] - 0s 2ms/step - loss: 0.0203 - accuracy: 0.9950\n",
      "Epoch 89/100\n",
      "46/46 [==============================] - 0s 2ms/step - loss: 0.0156 - accuracy: 0.9958\n",
      "Epoch 90/100\n",
      "46/46 [==============================] - 0s 2ms/step - loss: 0.0089 - accuracy: 0.9992\n",
      "Epoch 91/100\n",
      "46/46 [==============================] - 0s 2ms/step - loss: 0.0116 - accuracy: 0.9955\n",
      "Epoch 92/100\n",
      "46/46 [==============================] - 0s 2ms/step - loss: 0.0115 - accuracy: 0.9965\n",
      "Epoch 93/100\n",
      "46/46 [==============================] - 0s 2ms/step - loss: 0.0132 - accuracy: 0.9964\n",
      "Epoch 94/100\n",
      "46/46 [==============================] - 0s 2ms/step - loss: 0.0117 - accuracy: 0.9969\n",
      "Epoch 95/100\n",
      "46/46 [==============================] - 0s 2ms/step - loss: 0.0127 - accuracy: 0.9983\n",
      "Epoch 96/100\n",
      "46/46 [==============================] - 0s 2ms/step - loss: 0.0123 - accuracy: 0.9967\n",
      "Epoch 97/100\n",
      "46/46 [==============================] - 0s 2ms/step - loss: 0.0116 - accuracy: 0.9987\n",
      "Epoch 98/100\n",
      "46/46 [==============================] - 0s 2ms/step - loss: 0.0099 - accuracy: 0.9962\n",
      "Epoch 99/100\n",
      "46/46 [==============================] - 0s 2ms/step - loss: 0.0115 - accuracy: 0.9989\n",
      "Epoch 100/100\n",
      "46/46 [==============================] - 0s 2ms/step - loss: 0.0079 - accuracy: 0.9976\n"
     ]
    },
    {
     "data": {
      "text/plain": [
       "<tensorflow.python.keras.callbacks.History at 0x7fcf10357810>"
      ]
     },
     "execution_count": 14,
     "metadata": {},
     "output_type": "execute_result"
    }
   ],
   "source": [
    "model.fit(X_train, y_train, batch_size=10, epochs=100)"
   ]
  },
  {
   "cell_type": "code",
   "execution_count": 16,
   "metadata": {
    "ExecuteTime": {
     "end_time": "2021-03-24T16:03:08.659237Z",
     "start_time": "2021-03-24T16:03:08.429127Z"
    }
   },
   "outputs": [
    {
     "name": "stdout",
     "output_type": "stream",
     "text": [
      "4/4 [==============================] - 0s 2ms/step - loss: 0.0331 - accuracy: 0.9912\n",
      "Test loss 0.03313617408275604, Test accuracy 0.9912280440330505\n"
     ]
    }
   ],
   "source": [
    "test_loss, test_accuracy = model.evaluate(X_test, y_test)\n",
    "print(f'Test loss {test_loss}, Test accuracy {test_accuracy}')"
   ]
  }
 ],
 "metadata": {
  "kernelspec": {
   "display_name": "Python 3",
   "language": "python",
   "name": "python3"
  },
  "language_info": {
   "codemirror_mode": {
    "name": "ipython",
    "version": 3
   },
   "file_extension": ".py",
   "mimetype": "text/x-python",
   "name": "python",
   "nbconvert_exporter": "python",
   "pygments_lexer": "ipython3",
   "version": "3.7.9"
  },
  "toc": {
   "base_numbering": 1,
   "nav_menu": {},
   "number_sections": true,
   "sideBar": true,
   "skip_h1_title": false,
   "title_cell": "Table of Contents",
   "title_sidebar": "Contents",
   "toc_cell": false,
   "toc_position": {},
   "toc_section_display": true,
   "toc_window_display": false
  },
  "varInspector": {
   "cols": {
    "lenName": 16,
    "lenType": 16,
    "lenVar": 40
   },
   "kernels_config": {
    "python": {
     "delete_cmd_postfix": "",
     "delete_cmd_prefix": "del ",
     "library": "var_list.py",
     "varRefreshCmd": "print(var_dic_list())"
    },
    "r": {
     "delete_cmd_postfix": ") ",
     "delete_cmd_prefix": "rm(",
     "library": "var_list.r",
     "varRefreshCmd": "cat(var_dic_list()) "
    }
   },
   "types_to_exclude": [
    "module",
    "function",
    "builtin_function_or_method",
    "instance",
    "_Feature"
   ],
   "window_display": false
  }
 },
 "nbformat": 4,
 "nbformat_minor": 4
}
